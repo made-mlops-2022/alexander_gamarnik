{
 "cells": [
  {
   "cell_type": "code",
   "execution_count": 20,
   "id": "20af10f7",
   "metadata": {},
   "outputs": [],
   "source": [
    "import numpy as np\n",
    "import pandas as pd\n",
    "import sklearn as sk\n",
    "import seaborn as sns\n",
    "from sklearn.model_selection import train_test_split\n",
    "from sklearn.pipeline import make_pipeline\n",
    "from sklearn.svm import SVC\n",
    "from sklearn.metrics import accuracy_score\n",
    "from sklearn.naive_bayes import GaussianNB\n",
    "from matplotlib import pyplot as plt"
   ]
  },
  {
   "cell_type": "code",
   "execution_count": 94,
   "id": "1a7c8e35",
   "metadata": {},
   "outputs": [],
   "source": [
    "df = pd.read_csv(\"../data/raw/heart_cleveland_upload.csv\")"
   ]
  },
  {
   "cell_type": "code",
   "execution_count": 95,
   "id": "3fc8dadc",
   "metadata": {},
   "outputs": [
    {
     "data": {
      "text/html": [
       "<div>\n",
       "<style scoped>\n",
       "    .dataframe tbody tr th:only-of-type {\n",
       "        vertical-align: middle;\n",
       "    }\n",
       "\n",
       "    .dataframe tbody tr th {\n",
       "        vertical-align: top;\n",
       "    }\n",
       "\n",
       "    .dataframe thead th {\n",
       "        text-align: right;\n",
       "    }\n",
       "</style>\n",
       "<table border=\"1\" class=\"dataframe\">\n",
       "  <thead>\n",
       "    <tr style=\"text-align: right;\">\n",
       "      <th></th>\n",
       "      <th>age</th>\n",
       "      <th>sex</th>\n",
       "      <th>cp</th>\n",
       "      <th>trestbps</th>\n",
       "      <th>chol</th>\n",
       "      <th>fbs</th>\n",
       "      <th>restecg</th>\n",
       "      <th>thalach</th>\n",
       "      <th>exang</th>\n",
       "      <th>oldpeak</th>\n",
       "      <th>slope</th>\n",
       "      <th>ca</th>\n",
       "      <th>thal</th>\n",
       "      <th>condition</th>\n",
       "    </tr>\n",
       "  </thead>\n",
       "  <tbody>\n",
       "    <tr>\n",
       "      <th>0</th>\n",
       "      <td>69</td>\n",
       "      <td>1</td>\n",
       "      <td>0</td>\n",
       "      <td>160</td>\n",
       "      <td>234</td>\n",
       "      <td>1</td>\n",
       "      <td>2</td>\n",
       "      <td>131</td>\n",
       "      <td>0</td>\n",
       "      <td>0.1</td>\n",
       "      <td>1</td>\n",
       "      <td>1</td>\n",
       "      <td>0</td>\n",
       "      <td>0</td>\n",
       "    </tr>\n",
       "    <tr>\n",
       "      <th>1</th>\n",
       "      <td>69</td>\n",
       "      <td>0</td>\n",
       "      <td>0</td>\n",
       "      <td>140</td>\n",
       "      <td>239</td>\n",
       "      <td>0</td>\n",
       "      <td>0</td>\n",
       "      <td>151</td>\n",
       "      <td>0</td>\n",
       "      <td>1.8</td>\n",
       "      <td>0</td>\n",
       "      <td>2</td>\n",
       "      <td>0</td>\n",
       "      <td>0</td>\n",
       "    </tr>\n",
       "    <tr>\n",
       "      <th>2</th>\n",
       "      <td>66</td>\n",
       "      <td>0</td>\n",
       "      <td>0</td>\n",
       "      <td>150</td>\n",
       "      <td>226</td>\n",
       "      <td>0</td>\n",
       "      <td>0</td>\n",
       "      <td>114</td>\n",
       "      <td>0</td>\n",
       "      <td>2.6</td>\n",
       "      <td>2</td>\n",
       "      <td>0</td>\n",
       "      <td>0</td>\n",
       "      <td>0</td>\n",
       "    </tr>\n",
       "    <tr>\n",
       "      <th>3</th>\n",
       "      <td>65</td>\n",
       "      <td>1</td>\n",
       "      <td>0</td>\n",
       "      <td>138</td>\n",
       "      <td>282</td>\n",
       "      <td>1</td>\n",
       "      <td>2</td>\n",
       "      <td>174</td>\n",
       "      <td>0</td>\n",
       "      <td>1.4</td>\n",
       "      <td>1</td>\n",
       "      <td>1</td>\n",
       "      <td>0</td>\n",
       "      <td>1</td>\n",
       "    </tr>\n",
       "    <tr>\n",
       "      <th>4</th>\n",
       "      <td>64</td>\n",
       "      <td>1</td>\n",
       "      <td>0</td>\n",
       "      <td>110</td>\n",
       "      <td>211</td>\n",
       "      <td>0</td>\n",
       "      <td>2</td>\n",
       "      <td>144</td>\n",
       "      <td>1</td>\n",
       "      <td>1.8</td>\n",
       "      <td>1</td>\n",
       "      <td>0</td>\n",
       "      <td>0</td>\n",
       "      <td>0</td>\n",
       "    </tr>\n",
       "    <tr>\n",
       "      <th>...</th>\n",
       "      <td>...</td>\n",
       "      <td>...</td>\n",
       "      <td>...</td>\n",
       "      <td>...</td>\n",
       "      <td>...</td>\n",
       "      <td>...</td>\n",
       "      <td>...</td>\n",
       "      <td>...</td>\n",
       "      <td>...</td>\n",
       "      <td>...</td>\n",
       "      <td>...</td>\n",
       "      <td>...</td>\n",
       "      <td>...</td>\n",
       "      <td>...</td>\n",
       "    </tr>\n",
       "    <tr>\n",
       "      <th>292</th>\n",
       "      <td>40</td>\n",
       "      <td>1</td>\n",
       "      <td>3</td>\n",
       "      <td>152</td>\n",
       "      <td>223</td>\n",
       "      <td>0</td>\n",
       "      <td>0</td>\n",
       "      <td>181</td>\n",
       "      <td>0</td>\n",
       "      <td>0.0</td>\n",
       "      <td>0</td>\n",
       "      <td>0</td>\n",
       "      <td>2</td>\n",
       "      <td>1</td>\n",
       "    </tr>\n",
       "    <tr>\n",
       "      <th>293</th>\n",
       "      <td>39</td>\n",
       "      <td>1</td>\n",
       "      <td>3</td>\n",
       "      <td>118</td>\n",
       "      <td>219</td>\n",
       "      <td>0</td>\n",
       "      <td>0</td>\n",
       "      <td>140</td>\n",
       "      <td>0</td>\n",
       "      <td>1.2</td>\n",
       "      <td>1</td>\n",
       "      <td>0</td>\n",
       "      <td>2</td>\n",
       "      <td>1</td>\n",
       "    </tr>\n",
       "    <tr>\n",
       "      <th>294</th>\n",
       "      <td>35</td>\n",
       "      <td>1</td>\n",
       "      <td>3</td>\n",
       "      <td>120</td>\n",
       "      <td>198</td>\n",
       "      <td>0</td>\n",
       "      <td>0</td>\n",
       "      <td>130</td>\n",
       "      <td>1</td>\n",
       "      <td>1.6</td>\n",
       "      <td>1</td>\n",
       "      <td>0</td>\n",
       "      <td>2</td>\n",
       "      <td>1</td>\n",
       "    </tr>\n",
       "    <tr>\n",
       "      <th>295</th>\n",
       "      <td>35</td>\n",
       "      <td>0</td>\n",
       "      <td>3</td>\n",
       "      <td>138</td>\n",
       "      <td>183</td>\n",
       "      <td>0</td>\n",
       "      <td>0</td>\n",
       "      <td>182</td>\n",
       "      <td>0</td>\n",
       "      <td>1.4</td>\n",
       "      <td>0</td>\n",
       "      <td>0</td>\n",
       "      <td>0</td>\n",
       "      <td>0</td>\n",
       "    </tr>\n",
       "    <tr>\n",
       "      <th>296</th>\n",
       "      <td>35</td>\n",
       "      <td>1</td>\n",
       "      <td>3</td>\n",
       "      <td>126</td>\n",
       "      <td>282</td>\n",
       "      <td>0</td>\n",
       "      <td>2</td>\n",
       "      <td>156</td>\n",
       "      <td>1</td>\n",
       "      <td>0.0</td>\n",
       "      <td>0</td>\n",
       "      <td>0</td>\n",
       "      <td>2</td>\n",
       "      <td>1</td>\n",
       "    </tr>\n",
       "  </tbody>\n",
       "</table>\n",
       "<p>297 rows × 14 columns</p>\n",
       "</div>"
      ],
      "text/plain": [
       "     age  sex  cp  trestbps  chol  fbs  restecg  thalach  exang  oldpeak  \\\n",
       "0     69    1   0       160   234    1        2      131      0      0.1   \n",
       "1     69    0   0       140   239    0        0      151      0      1.8   \n",
       "2     66    0   0       150   226    0        0      114      0      2.6   \n",
       "3     65    1   0       138   282    1        2      174      0      1.4   \n",
       "4     64    1   0       110   211    0        2      144      1      1.8   \n",
       "..   ...  ...  ..       ...   ...  ...      ...      ...    ...      ...   \n",
       "292   40    1   3       152   223    0        0      181      0      0.0   \n",
       "293   39    1   3       118   219    0        0      140      0      1.2   \n",
       "294   35    1   3       120   198    0        0      130      1      1.6   \n",
       "295   35    0   3       138   183    0        0      182      0      1.4   \n",
       "296   35    1   3       126   282    0        2      156      1      0.0   \n",
       "\n",
       "     slope  ca  thal  condition  \n",
       "0        1   1     0          0  \n",
       "1        0   2     0          0  \n",
       "2        2   0     0          0  \n",
       "3        1   1     0          1  \n",
       "4        1   0     0          0  \n",
       "..     ...  ..   ...        ...  \n",
       "292      0   0     2          1  \n",
       "293      1   0     2          1  \n",
       "294      1   0     2          1  \n",
       "295      0   0     0          0  \n",
       "296      0   0     2          1  \n",
       "\n",
       "[297 rows x 14 columns]"
      ]
     },
     "execution_count": 95,
     "metadata": {},
     "output_type": "execute_result"
    }
   ],
   "source": [
    "df"
   ]
  },
  {
   "cell_type": "markdown",
   "id": "bac1380f",
   "metadata": {},
   "source": [
    "### Checking NULL values in DataFrame"
   ]
  },
  {
   "cell_type": "code",
   "execution_count": 96,
   "id": "f6de3608",
   "metadata": {},
   "outputs": [
    {
     "name": "stdout",
     "output_type": "stream",
     "text": [
      "<class 'pandas.core.frame.DataFrame'>\n",
      "RangeIndex: 297 entries, 0 to 296\n",
      "Data columns (total 14 columns):\n",
      " #   Column     Non-Null Count  Dtype  \n",
      "---  ------     --------------  -----  \n",
      " 0   age        297 non-null    int64  \n",
      " 1   sex        297 non-null    int64  \n",
      " 2   cp         297 non-null    int64  \n",
      " 3   trestbps   297 non-null    int64  \n",
      " 4   chol       297 non-null    int64  \n",
      " 5   fbs        297 non-null    int64  \n",
      " 6   restecg    297 non-null    int64  \n",
      " 7   thalach    297 non-null    int64  \n",
      " 8   exang      297 non-null    int64  \n",
      " 9   oldpeak    297 non-null    float64\n",
      " 10  slope      297 non-null    int64  \n",
      " 11  ca         297 non-null    int64  \n",
      " 12  thal       297 non-null    int64  \n",
      " 13  condition  297 non-null    int64  \n",
      "dtypes: float64(1), int64(13)\n",
      "memory usage: 32.6 KB\n"
     ]
    }
   ],
   "source": [
    "df.info()"
   ]
  },
  {
   "cell_type": "markdown",
   "id": "4d8f16ae",
   "metadata": {},
   "source": [
    "As it can be seen, there no NULL values in DF."
   ]
  },
  {
   "cell_type": "markdown",
   "id": "c0affde9",
   "metadata": {},
   "source": [
    "### Checking duplicate values in DataFrame"
   ]
  },
  {
   "cell_type": "code",
   "execution_count": 122,
   "id": "95763861",
   "metadata": {},
   "outputs": [
    {
     "data": {
      "text/plain": [
       "(297, 14)"
      ]
     },
     "execution_count": 122,
     "metadata": {},
     "output_type": "execute_result"
    }
   ],
   "source": [
    "df.shape"
   ]
  },
  {
   "cell_type": "code",
   "execution_count": 125,
   "id": "3a585133",
   "metadata": {},
   "outputs": [],
   "source": [
    "df = df.drop_duplicates()"
   ]
  },
  {
   "cell_type": "code",
   "execution_count": 126,
   "id": "6b7e7ba0",
   "metadata": {},
   "outputs": [
    {
     "data": {
      "text/plain": [
       "(297, 14)"
      ]
     },
     "execution_count": 126,
     "metadata": {},
     "output_type": "execute_result"
    }
   ],
   "source": [
    "df.shape"
   ]
  },
  {
   "cell_type": "markdown",
   "id": "2b617b51",
   "metadata": {},
   "source": [
    "As it can be seen, there are no duplicates in DF."
   ]
  },
  {
   "cell_type": "markdown",
   "id": "39715625",
   "metadata": {},
   "source": [
    "### Column description"
   ]
  },
  {
   "cell_type": "markdown",
   "id": "682ed2d3",
   "metadata": {},
   "source": [
    "* age: age in years\n",
    "* sex: sex (1 = male; 0 = female)\n",
    "* cp: chest pain type\n",
    "-- Value 0: typical angina\n",
    "-- Value 1: atypical angina\n",
    "-- Value 2: non-anginal pain\n",
    "-- Value 3: asymptomatic\n",
    "* trestbps: resting blood pressure (in mm Hg on admission to the hospital)\n",
    "* chol: serum cholestoral in mg/dl\n",
    "* fbs: (fasting blood sugar > 120 mg/dl) (1 = true; 0 = false)\n",
    "* restecg: resting electrocardiographic results\n",
    "-- Value 0: normal\n",
    "-- Value 1: having ST-T wave abnormality (T wave inversions and/or ST elevation or depression of > 0.05 mV)\n",
    "-- Value 2: showing probable or definite left ventricular hypertrophy by Estes' criteria\n",
    "* thalach: maximum heart rate achieved\n",
    "* exang: exercise induced angina (1 = yes; 0 = no)\n",
    "* oldpeak = ST depression induced by exercise relative to rest\n",
    "* slope: the slope of the peak exercise ST segment\n",
    "-- Value 0: upsloping\n",
    "-- Value 1: flat\n",
    "-- Value 2: downsloping\n",
    "* ca: number of major vessels (0-3) colored by flourosopy\n",
    "* thal: 0 = normal; 1 = fixed defect; 2 = reversable defect \n",
    "and the label\n",
    "* condition: 0 = no disease, 1 = disease"
   ]
  },
  {
   "cell_type": "markdown",
   "id": "134af35b",
   "metadata": {},
   "source": [
    "### Unique values"
   ]
  },
  {
   "cell_type": "code",
   "execution_count": 97,
   "id": "5e24078b",
   "metadata": {},
   "outputs": [
    {
     "data": {
      "text/plain": [
       "age           41\n",
       "sex            2\n",
       "cp             4\n",
       "trestbps      50\n",
       "chol         152\n",
       "fbs            2\n",
       "restecg        3\n",
       "thalach       91\n",
       "exang          2\n",
       "oldpeak       40\n",
       "slope          3\n",
       "ca             4\n",
       "thal           3\n",
       "condition      2\n",
       "dtype: int64"
      ]
     },
     "execution_count": 97,
     "metadata": {},
     "output_type": "execute_result"
    }
   ],
   "source": [
    "df.nunique()"
   ]
  },
  {
   "cell_type": "markdown",
   "id": "5dc0ac34",
   "metadata": {},
   "source": [
    "### Renaming columns and categorial features"
   ]
  },
  {
   "cell_type": "code",
   "execution_count": 98,
   "id": "3317bce8",
   "metadata": {},
   "outputs": [],
   "source": [
    "if \"cp\" in df:\n",
    "    df = df.rename(columns={\n",
    "        \"cp\": \"chest pain\",\n",
    "        \"trestbps\": \"resting blood pressure\",\n",
    "        \"chol\": \"cholesterol\",\n",
    "        \"fbs\": \"fasting blood sugar\",\n",
    "        \"restecg\": \"resting electrocardiographic results\",\n",
    "        \"thalach\": \"max heart rate\",\n",
    "        \"exang\": \"exercise induced angina\",\n",
    "        \"ca\": \"number of major vessels\"\n",
    "        })"
   ]
  },
  {
   "cell_type": "code",
   "execution_count": 99,
   "id": "a4f1da8f",
   "metadata": {},
   "outputs": [],
   "source": [
    "df[\"sex\"] = df[\"sex\"].map({0: \"female\", 1: \"male\"})\n",
    "df[\"chest pain\"] = df[\"chest pain\"].map({0: \"typical angina\",\n",
    "                                        1: \"atypical angina\",\n",
    "                                        2: \"non-anginal pain\",\n",
    "                                        3: \"asyptomatic\"})\n",
    "df[\"fasting blood sugar\"] = df[\"fasting blood sugar\"].map({1: \"> 120 mg/dl\",\n",
    "                                                          0: \"<= 120 mg/dl\"})\n",
    "df[\"resting electrocardiographic results\"] = df[\"resting electrocardiographic results\"].map({\n",
    "    0: \"normal\",\n",
    "    1: \"having ST-T wave abnormality\",\n",
    "    2: \"showing probable or definite left ventricular hypertrophy by Estes' criteria\"\n",
    "})\n",
    "df[\"exercise induced angina\"] = df[\"exercise induced angina\"].map({1: \"yes\", 0: \"no\"})\n",
    "df[\"slope\"] = df[\"slope\"].map({\n",
    "    0: \"upsloping\",\n",
    "    1: \"flat\",\n",
    "    2: \"downsloping\"\n",
    "})\n",
    "df[\"thal\"] = df[\"thal\"].map({\n",
    "    0: \"normal\",\n",
    "    1: \"fixed defect\",\n",
    "    2: \"reversable defect and the label\"\n",
    "})\n",
    "df[\"condition\"] = df[\"condition\"].map({\n",
    "    0: \"no disease\",\n",
    "    1: \"disease\"\n",
    "})"
   ]
  },
  {
   "cell_type": "code",
   "execution_count": 100,
   "id": "d033883a",
   "metadata": {},
   "outputs": [
    {
     "data": {
      "text/plain": [
       "age                                      41\n",
       "sex                                       2\n",
       "chest pain                                4\n",
       "resting blood pressure                   50\n",
       "cholesterol                             152\n",
       "fasting blood sugar                       2\n",
       "resting electrocardiographic results      3\n",
       "max heart rate                           91\n",
       "exercise induced angina                   2\n",
       "oldpeak                                  40\n",
       "slope                                     3\n",
       "number of major vessels                   4\n",
       "thal                                      3\n",
       "condition                                 2\n",
       "dtype: int64"
      ]
     },
     "execution_count": 100,
     "metadata": {},
     "output_type": "execute_result"
    }
   ],
   "source": [
    "df.nunique()"
   ]
  },
  {
   "cell_type": "markdown",
   "id": "a901a0da",
   "metadata": {},
   "source": [
    "### Seperating categorial and numerical features"
   ]
  },
  {
   "cell_type": "code",
   "execution_count": 101,
   "id": "75ce4959",
   "metadata": {},
   "outputs": [],
   "source": [
    "numerical = [\"age\", \"resting blood pressure\", \"cholesterol\", \"max heart rate\", \"oldpeak\"]\n",
    "categorial = [\"sex\", \"chest pain\", \"fasting blood sugar\", \"resting electrocardiographic results\",\n",
    "              \"exercise induced angina\", \"slope\", \"number of major vessels\", \"thal\", \"condition\"]"
   ]
  },
  {
   "cell_type": "code",
   "execution_count": 102,
   "id": "953ec567",
   "metadata": {},
   "outputs": [
    {
     "data": {
      "text/html": [
       "<div>\n",
       "<style scoped>\n",
       "    .dataframe tbody tr th:only-of-type {\n",
       "        vertical-align: middle;\n",
       "    }\n",
       "\n",
       "    .dataframe tbody tr th {\n",
       "        vertical-align: top;\n",
       "    }\n",
       "\n",
       "    .dataframe thead th {\n",
       "        text-align: right;\n",
       "    }\n",
       "</style>\n",
       "<table border=\"1\" class=\"dataframe\">\n",
       "  <thead>\n",
       "    <tr style=\"text-align: right;\">\n",
       "      <th></th>\n",
       "      <th>age</th>\n",
       "      <th>resting blood pressure</th>\n",
       "      <th>cholesterol</th>\n",
       "      <th>max heart rate</th>\n",
       "      <th>oldpeak</th>\n",
       "    </tr>\n",
       "  </thead>\n",
       "  <tbody>\n",
       "    <tr>\n",
       "      <th>0</th>\n",
       "      <td>69</td>\n",
       "      <td>160</td>\n",
       "      <td>234</td>\n",
       "      <td>131</td>\n",
       "      <td>0.1</td>\n",
       "    </tr>\n",
       "    <tr>\n",
       "      <th>1</th>\n",
       "      <td>69</td>\n",
       "      <td>140</td>\n",
       "      <td>239</td>\n",
       "      <td>151</td>\n",
       "      <td>1.8</td>\n",
       "    </tr>\n",
       "    <tr>\n",
       "      <th>2</th>\n",
       "      <td>66</td>\n",
       "      <td>150</td>\n",
       "      <td>226</td>\n",
       "      <td>114</td>\n",
       "      <td>2.6</td>\n",
       "    </tr>\n",
       "    <tr>\n",
       "      <th>3</th>\n",
       "      <td>65</td>\n",
       "      <td>138</td>\n",
       "      <td>282</td>\n",
       "      <td>174</td>\n",
       "      <td>1.4</td>\n",
       "    </tr>\n",
       "    <tr>\n",
       "      <th>4</th>\n",
       "      <td>64</td>\n",
       "      <td>110</td>\n",
       "      <td>211</td>\n",
       "      <td>144</td>\n",
       "      <td>1.8</td>\n",
       "    </tr>\n",
       "    <tr>\n",
       "      <th>...</th>\n",
       "      <td>...</td>\n",
       "      <td>...</td>\n",
       "      <td>...</td>\n",
       "      <td>...</td>\n",
       "      <td>...</td>\n",
       "    </tr>\n",
       "    <tr>\n",
       "      <th>292</th>\n",
       "      <td>40</td>\n",
       "      <td>152</td>\n",
       "      <td>223</td>\n",
       "      <td>181</td>\n",
       "      <td>0.0</td>\n",
       "    </tr>\n",
       "    <tr>\n",
       "      <th>293</th>\n",
       "      <td>39</td>\n",
       "      <td>118</td>\n",
       "      <td>219</td>\n",
       "      <td>140</td>\n",
       "      <td>1.2</td>\n",
       "    </tr>\n",
       "    <tr>\n",
       "      <th>294</th>\n",
       "      <td>35</td>\n",
       "      <td>120</td>\n",
       "      <td>198</td>\n",
       "      <td>130</td>\n",
       "      <td>1.6</td>\n",
       "    </tr>\n",
       "    <tr>\n",
       "      <th>295</th>\n",
       "      <td>35</td>\n",
       "      <td>138</td>\n",
       "      <td>183</td>\n",
       "      <td>182</td>\n",
       "      <td>1.4</td>\n",
       "    </tr>\n",
       "    <tr>\n",
       "      <th>296</th>\n",
       "      <td>35</td>\n",
       "      <td>126</td>\n",
       "      <td>282</td>\n",
       "      <td>156</td>\n",
       "      <td>0.0</td>\n",
       "    </tr>\n",
       "  </tbody>\n",
       "</table>\n",
       "<p>297 rows × 5 columns</p>\n",
       "</div>"
      ],
      "text/plain": [
       "     age  resting blood pressure  cholesterol  max heart rate  oldpeak\n",
       "0     69                     160          234             131      0.1\n",
       "1     69                     140          239             151      1.8\n",
       "2     66                     150          226             114      2.6\n",
       "3     65                     138          282             174      1.4\n",
       "4     64                     110          211             144      1.8\n",
       "..   ...                     ...          ...             ...      ...\n",
       "292   40                     152          223             181      0.0\n",
       "293   39                     118          219             140      1.2\n",
       "294   35                     120          198             130      1.6\n",
       "295   35                     138          183             182      1.4\n",
       "296   35                     126          282             156      0.0\n",
       "\n",
       "[297 rows x 5 columns]"
      ]
     },
     "execution_count": 102,
     "metadata": {},
     "output_type": "execute_result"
    }
   ],
   "source": [
    "df[numerical]"
   ]
  },
  {
   "cell_type": "code",
   "execution_count": 103,
   "id": "251b95ea",
   "metadata": {},
   "outputs": [
    {
     "data": {
      "text/html": [
       "<div>\n",
       "<style scoped>\n",
       "    .dataframe tbody tr th:only-of-type {\n",
       "        vertical-align: middle;\n",
       "    }\n",
       "\n",
       "    .dataframe tbody tr th {\n",
       "        vertical-align: top;\n",
       "    }\n",
       "\n",
       "    .dataframe thead th {\n",
       "        text-align: right;\n",
       "    }\n",
       "</style>\n",
       "<table border=\"1\" class=\"dataframe\">\n",
       "  <thead>\n",
       "    <tr style=\"text-align: right;\">\n",
       "      <th></th>\n",
       "      <th>sex</th>\n",
       "      <th>chest pain</th>\n",
       "      <th>fasting blood sugar</th>\n",
       "      <th>resting electrocardiographic results</th>\n",
       "      <th>exercise induced angina</th>\n",
       "      <th>slope</th>\n",
       "      <th>number of major vessels</th>\n",
       "      <th>thal</th>\n",
       "      <th>condition</th>\n",
       "    </tr>\n",
       "  </thead>\n",
       "  <tbody>\n",
       "    <tr>\n",
       "      <th>0</th>\n",
       "      <td>male</td>\n",
       "      <td>typical angina</td>\n",
       "      <td>&gt; 120 mg/dl</td>\n",
       "      <td>showing probable or definite left ventricular ...</td>\n",
       "      <td>no</td>\n",
       "      <td>flat</td>\n",
       "      <td>1</td>\n",
       "      <td>normal</td>\n",
       "      <td>no disease</td>\n",
       "    </tr>\n",
       "    <tr>\n",
       "      <th>1</th>\n",
       "      <td>female</td>\n",
       "      <td>typical angina</td>\n",
       "      <td>&lt;= 120 mg/dl</td>\n",
       "      <td>normal</td>\n",
       "      <td>no</td>\n",
       "      <td>upsloping</td>\n",
       "      <td>2</td>\n",
       "      <td>normal</td>\n",
       "      <td>no disease</td>\n",
       "    </tr>\n",
       "    <tr>\n",
       "      <th>2</th>\n",
       "      <td>female</td>\n",
       "      <td>typical angina</td>\n",
       "      <td>&lt;= 120 mg/dl</td>\n",
       "      <td>normal</td>\n",
       "      <td>no</td>\n",
       "      <td>downsloping</td>\n",
       "      <td>0</td>\n",
       "      <td>normal</td>\n",
       "      <td>no disease</td>\n",
       "    </tr>\n",
       "    <tr>\n",
       "      <th>3</th>\n",
       "      <td>male</td>\n",
       "      <td>typical angina</td>\n",
       "      <td>&gt; 120 mg/dl</td>\n",
       "      <td>showing probable or definite left ventricular ...</td>\n",
       "      <td>no</td>\n",
       "      <td>flat</td>\n",
       "      <td>1</td>\n",
       "      <td>normal</td>\n",
       "      <td>disease</td>\n",
       "    </tr>\n",
       "    <tr>\n",
       "      <th>4</th>\n",
       "      <td>male</td>\n",
       "      <td>typical angina</td>\n",
       "      <td>&lt;= 120 mg/dl</td>\n",
       "      <td>showing probable or definite left ventricular ...</td>\n",
       "      <td>yes</td>\n",
       "      <td>flat</td>\n",
       "      <td>0</td>\n",
       "      <td>normal</td>\n",
       "      <td>no disease</td>\n",
       "    </tr>\n",
       "    <tr>\n",
       "      <th>...</th>\n",
       "      <td>...</td>\n",
       "      <td>...</td>\n",
       "      <td>...</td>\n",
       "      <td>...</td>\n",
       "      <td>...</td>\n",
       "      <td>...</td>\n",
       "      <td>...</td>\n",
       "      <td>...</td>\n",
       "      <td>...</td>\n",
       "    </tr>\n",
       "    <tr>\n",
       "      <th>292</th>\n",
       "      <td>male</td>\n",
       "      <td>asyptomatic</td>\n",
       "      <td>&lt;= 120 mg/dl</td>\n",
       "      <td>normal</td>\n",
       "      <td>no</td>\n",
       "      <td>upsloping</td>\n",
       "      <td>0</td>\n",
       "      <td>reversable defect and the label</td>\n",
       "      <td>disease</td>\n",
       "    </tr>\n",
       "    <tr>\n",
       "      <th>293</th>\n",
       "      <td>male</td>\n",
       "      <td>asyptomatic</td>\n",
       "      <td>&lt;= 120 mg/dl</td>\n",
       "      <td>normal</td>\n",
       "      <td>no</td>\n",
       "      <td>flat</td>\n",
       "      <td>0</td>\n",
       "      <td>reversable defect and the label</td>\n",
       "      <td>disease</td>\n",
       "    </tr>\n",
       "    <tr>\n",
       "      <th>294</th>\n",
       "      <td>male</td>\n",
       "      <td>asyptomatic</td>\n",
       "      <td>&lt;= 120 mg/dl</td>\n",
       "      <td>normal</td>\n",
       "      <td>yes</td>\n",
       "      <td>flat</td>\n",
       "      <td>0</td>\n",
       "      <td>reversable defect and the label</td>\n",
       "      <td>disease</td>\n",
       "    </tr>\n",
       "    <tr>\n",
       "      <th>295</th>\n",
       "      <td>female</td>\n",
       "      <td>asyptomatic</td>\n",
       "      <td>&lt;= 120 mg/dl</td>\n",
       "      <td>normal</td>\n",
       "      <td>no</td>\n",
       "      <td>upsloping</td>\n",
       "      <td>0</td>\n",
       "      <td>normal</td>\n",
       "      <td>no disease</td>\n",
       "    </tr>\n",
       "    <tr>\n",
       "      <th>296</th>\n",
       "      <td>male</td>\n",
       "      <td>asyptomatic</td>\n",
       "      <td>&lt;= 120 mg/dl</td>\n",
       "      <td>showing probable or definite left ventricular ...</td>\n",
       "      <td>yes</td>\n",
       "      <td>upsloping</td>\n",
       "      <td>0</td>\n",
       "      <td>reversable defect and the label</td>\n",
       "      <td>disease</td>\n",
       "    </tr>\n",
       "  </tbody>\n",
       "</table>\n",
       "<p>297 rows × 9 columns</p>\n",
       "</div>"
      ],
      "text/plain": [
       "        sex      chest pain fasting blood sugar  \\\n",
       "0      male  typical angina         > 120 mg/dl   \n",
       "1    female  typical angina        <= 120 mg/dl   \n",
       "2    female  typical angina        <= 120 mg/dl   \n",
       "3      male  typical angina         > 120 mg/dl   \n",
       "4      male  typical angina        <= 120 mg/dl   \n",
       "..      ...             ...                 ...   \n",
       "292    male     asyptomatic        <= 120 mg/dl   \n",
       "293    male     asyptomatic        <= 120 mg/dl   \n",
       "294    male     asyptomatic        <= 120 mg/dl   \n",
       "295  female     asyptomatic        <= 120 mg/dl   \n",
       "296    male     asyptomatic        <= 120 mg/dl   \n",
       "\n",
       "                  resting electrocardiographic results  \\\n",
       "0    showing probable or definite left ventricular ...   \n",
       "1                                               normal   \n",
       "2                                               normal   \n",
       "3    showing probable or definite left ventricular ...   \n",
       "4    showing probable or definite left ventricular ...   \n",
       "..                                                 ...   \n",
       "292                                             normal   \n",
       "293                                             normal   \n",
       "294                                             normal   \n",
       "295                                             normal   \n",
       "296  showing probable or definite left ventricular ...   \n",
       "\n",
       "    exercise induced angina        slope  number of major vessels  \\\n",
       "0                        no         flat                        1   \n",
       "1                        no    upsloping                        2   \n",
       "2                        no  downsloping                        0   \n",
       "3                        no         flat                        1   \n",
       "4                       yes         flat                        0   \n",
       "..                      ...          ...                      ...   \n",
       "292                      no    upsloping                        0   \n",
       "293                      no         flat                        0   \n",
       "294                     yes         flat                        0   \n",
       "295                      no    upsloping                        0   \n",
       "296                     yes    upsloping                        0   \n",
       "\n",
       "                                thal   condition  \n",
       "0                             normal  no disease  \n",
       "1                             normal  no disease  \n",
       "2                             normal  no disease  \n",
       "3                             normal     disease  \n",
       "4                             normal  no disease  \n",
       "..                               ...         ...  \n",
       "292  reversable defect and the label     disease  \n",
       "293  reversable defect and the label     disease  \n",
       "294  reversable defect and the label     disease  \n",
       "295                           normal  no disease  \n",
       "296  reversable defect and the label     disease  \n",
       "\n",
       "[297 rows x 9 columns]"
      ]
     },
     "execution_count": 103,
     "metadata": {},
     "output_type": "execute_result"
    }
   ],
   "source": [
    "df[categorial]"
   ]
  },
  {
   "cell_type": "markdown",
   "id": "4acb5788",
   "metadata": {},
   "source": [
    "### Categorial features analysis"
   ]
  },
  {
   "cell_type": "code",
   "execution_count": 134,
   "id": "97f002d4",
   "metadata": {},
   "outputs": [
    {
     "data": {
      "text/plain": [
       "<AxesSubplot:>"
      ]
     },
     "execution_count": 134,
     "metadata": {},
     "output_type": "execute_result"
    },
    {
     "data": {
      "image/png": "[encoded data removed]",
      "text/plain": [
       "<Figure size 432x288 with 1 Axes>"
      ]
     },
     "metadata": {
      "needs_background": "light"
     },
     "output_type": "display_data"
    }
   ],
   "source": [
    "df['sex'].value_counts().plot(kind='bar')"
   ]
  },
  {
   "cell_type": "markdown",
   "id": "fc77e62d",
   "metadata": {},
   "source": [
    "It's approximately 2:1 men to women."
   ]
  },
  {
   "cell_type": "code",
   "execution_count": 135,
   "id": "29cca19d",
   "metadata": {},
   "outputs": [
    {
     "data": {
      "text/plain": [
       "<AxesSubplot:>"
      ]
     },
     "execution_count": 135,
     "metadata": {},
     "output_type": "execute_result"
    },
    {
     "data": {
      "image/png": "[encoded data removed]",
      "text/plain": [
       "<Figure size 432x288 with 1 Axes>"
      ]
     },
     "metadata": {
      "needs_background": "light"
     },
     "output_type": "display_data"
    }
   ],
   "source": [
    "df['chest pain'].value_counts().plot(kind='bar')"
   ]
  },
  {
   "cell_type": "markdown",
   "id": "fdf21898",
   "metadata": {},
   "source": [
    "Different chest pain types are presented."
   ]
  },
  {
   "cell_type": "code",
   "execution_count": 136,
   "id": "010ba529",
   "metadata": {},
   "outputs": [
    {
     "data": {
      "text/plain": [
       "<AxesSubplot:>"
      ]
     },
     "execution_count": 136,
     "metadata": {},
     "output_type": "execute_result"
    },
    {
     "data": {
      "image/png": "[encoded data removed]",
      "text/plain": [
       "<Figure size 432x288 with 1 Axes>"
      ]
     },
     "metadata": {
      "needs_background": "light"
     },
     "output_type": "display_data"
    }
   ],
   "source": [
    "df[\"fasting blood sugar\"].value_counts().plot(kind=\"bar\")"
   ]
  },
  {
   "cell_type": "markdown",
   "id": "267e3916",
   "metadata": {},
   "source": [
    "Most people have FBS less or equal than 120 mg/dl"
   ]
  },
  {
   "cell_type": "code",
   "execution_count": 137,
   "id": "5988def7",
   "metadata": {},
   "outputs": [
    {
     "data": {
      "text/plain": [
       "<AxesSubplot:>"
      ]
     },
     "execution_count": 137,
     "metadata": {},
     "output_type": "execute_result"
    },
    {
     "data": {
      "image/png": "[encoded data removed]",
      "text/plain": [
       "<Figure size 432x288 with 1 Axes>"
      ]
     },
     "metadata": {
      "needs_background": "light"
     },
     "output_type": "display_data"
    }
   ],
   "source": [
    "df[\"resting electrocardiographic results\"].value_counts().plot(kind=\"bar\")"
   ]
  },
  {
   "cell_type": "markdown",
   "id": "1dc91d86",
   "metadata": {},
   "source": [
    "There's categorical feature named \"having ST-T wave abnormality\" which appears much less times and can be removed."
   ]
  },
  {
   "cell_type": "code",
   "execution_count": 138,
   "id": "8fec4f9c",
   "metadata": {},
   "outputs": [
    {
     "data": {
      "text/plain": [
       "<AxesSubplot:>"
      ]
     },
     "execution_count": 138,
     "metadata": {},
     "output_type": "execute_result"
    },
    {
     "data": {
      "image/png": "[encoded data removed]",
      "text/plain": [
       "<Figure size 432x288 with 1 Axes>"
      ]
     },
     "metadata": {
      "needs_background": "light"
     },
     "output_type": "display_data"
    }
   ],
   "source": [
    "df[\"exercise induced angina\"].value_counts().plot(kind=\"bar\")"
   ]
  },
  {
   "cell_type": "markdown",
   "id": "a3a2cb89",
   "metadata": {},
   "source": [
    "\"no\" values appear twice more often than \"yes\" values."
   ]
  },
  {
   "cell_type": "code",
   "execution_count": 139,
   "id": "4537322a",
   "metadata": {},
   "outputs": [
    {
     "data": {
      "text/plain": [
       "<AxesSubplot:>"
      ]
     },
     "execution_count": 139,
     "metadata": {},
     "output_type": "execute_result"
    },
    {
     "data": {
      "image/png": "[encoded data removed]",
      "text/plain": [
       "<Figure size 432x288 with 1 Axes>"
      ]
     },
     "metadata": {
      "needs_background": "light"
     },
     "output_type": "display_data"
    }
   ],
   "source": [
    "df[\"slope\"].value_counts().plot(kind=\"bar\")"
   ]
  },
  {
   "cell_type": "markdown",
   "id": "19fc43ce",
   "metadata": {},
   "source": [
    "downsloping values appear less often than others."
   ]
  },
  {
   "cell_type": "code",
   "execution_count": 140,
   "id": "3f775d1d",
   "metadata": {},
   "outputs": [
    {
     "data": {
      "text/plain": [
       "<AxesSubplot:>"
      ]
     },
     "execution_count": 140,
     "metadata": {},
     "output_type": "execute_result"
    },
    {
     "data": {
      "image/png": "[encoded data removed]",
      "text/plain": [
       "<Figure size 432x288 with 1 Axes>"
      ]
     },
     "metadata": {
      "needs_background": "light"
     },
     "output_type": "display_data"
    }
   ],
   "source": [
    "df[\"number of major vessels\"].value_counts().plot(kind=\"bar\")"
   ]
  },
  {
   "cell_type": "markdown",
   "id": "e213c1a3",
   "metadata": {},
   "source": [
    "The bigger the number of major vessels, the less it's frequency of appearance is."
   ]
  },
  {
   "cell_type": "code",
   "execution_count": 141,
   "id": "a64a8734",
   "metadata": {},
   "outputs": [
    {
     "data": {
      "text/plain": [
       "<AxesSubplot:>"
      ]
     },
     "execution_count": 141,
     "metadata": {},
     "output_type": "execute_result"
    },
    {
     "data": {
      "image/png": "[encoded data removed]",
      "text/plain": [
       "<Figure size 432x288 with 1 Axes>"
      ]
     },
     "metadata": {
      "needs_background": "light"
     },
     "output_type": "display_data"
    }
   ],
   "source": [
    "df[\"thal\"].value_counts().plot(kind=\"bar\")"
   ]
  },
  {
   "cell_type": "markdown",
   "id": "a26081a0",
   "metadata": {},
   "source": [
    "Fixed detect values appear much less often."
   ]
  },
  {
   "cell_type": "code",
   "execution_count": 142,
   "id": "39ec5d00",
   "metadata": {},
   "outputs": [
    {
     "data": {
      "text/plain": [
       "<AxesSubplot:>"
      ]
     },
     "execution_count": 142,
     "metadata": {},
     "output_type": "execute_result"
    },
    {
     "data": {
      "image/png": "[encoded data removed]",
      "text/plain": [
       "<Figure size 432x288 with 1 Axes>"
      ]
     },
     "metadata": {
      "needs_background": "light"
     },
     "output_type": "display_data"
    }
   ],
   "source": [
    "df[\"condition\"].value_counts().plot(kind=\"bar\")"
   ]
  },
  {
   "cell_type": "markdown",
   "id": "b38321f6",
   "metadata": {},
   "source": [
    "There are more people, who don't have any disease."
   ]
  },
  {
   "cell_type": "markdown",
   "id": "9a0eb48c",
   "metadata": {},
   "source": [
    "### Numerical features analysis"
   ]
  },
  {
   "cell_type": "code",
   "execution_count": 148,
   "id": "0000275c",
   "metadata": {},
   "outputs": [
    {
     "data": {
      "text/plain": [
       "<AxesSubplot:ylabel='Frequency'>"
      ]
     },
     "execution_count": 148,
     "metadata": {},
     "output_type": "execute_result"
    },
    {
     "data": {
      "image/png": "[encoded data removed]",
      "text/plain": [
       "<Figure size 432x288 with 1 Axes>"
      ]
     },
     "metadata": {
      "needs_background": "light"
     },
     "output_type": "display_data"
    }
   ],
   "source": [
    "df[\"age\"].plot.hist()"
   ]
  },
  {
   "cell_type": "markdown",
   "id": "6d272685",
   "metadata": {},
   "source": [
    "Age of most people is between 40 and 70."
   ]
  },
  {
   "cell_type": "code",
   "execution_count": 149,
   "id": "24b20469",
   "metadata": {},
   "outputs": [
    {
     "data": {
      "text/plain": [
       "<AxesSubplot:ylabel='Frequency'>"
      ]
     },
     "execution_count": 149,
     "metadata": {},
     "output_type": "execute_result"
    },
    {
     "data": {
      "image/png": "[encoded data removed]",
      "text/plain": [
       "<Figure size 432x288 with 1 Axes>"
      ]
     },
     "metadata": {
      "needs_background": "light"
     },
     "output_type": "display_data"
    }
   ],
   "source": [
    "df[\"resting blood pressure\"].plot.hist()"
   ]
  },
  {
   "cell_type": "markdown",
   "id": "ed690cb2",
   "metadata": {},
   "source": [
    "Most people have resting blood pressure from 100 to 160."
   ]
  },
  {
   "cell_type": "code",
   "execution_count": 150,
   "id": "6c9406cd",
   "metadata": {},
   "outputs": [
    {
     "data": {
      "text/plain": [
       "<AxesSubplot:ylabel='Frequency'>"
      ]
     },
     "execution_count": 150,
     "metadata": {},
     "output_type": "execute_result"
    },
    {
     "data": {
      "image/png": "[encoded data removed]",
      "text/plain": [
       "<Figure size 432x288 with 1 Axes>"
      ]
     },
     "metadata": {
      "needs_background": "light"
     },
     "output_type": "display_data"
    }
   ],
   "source": [
    "df[\"cholesterol\"].plot.hist()"
   ]
  },
  {
   "cell_type": "markdown",
   "id": "c054fa00",
   "metadata": {},
   "source": [
    "Different people have different levels of cholesterol but most have from 200 to 300."
   ]
  },
  {
   "cell_type": "code",
   "execution_count": 152,
   "id": "520b48ba",
   "metadata": {},
   "outputs": [
    {
     "data": {
      "text/plain": [
       "<AxesSubplot:ylabel='Frequency'>"
      ]
     },
     "execution_count": 152,
     "metadata": {},
     "output_type": "execute_result"
    },
    {
     "data": {
      "image/png": "[encoded data removed]",
      "text/plain": [
       "<Figure size 432x288 with 1 Axes>"
      ]
     },
     "metadata": {
      "needs_background": "light"
     },
     "output_type": "display_data"
    }
   ],
   "source": [
    "df[\"max heart rate\"].plot.hist()"
   ]
  },
  {
   "cell_type": "markdown",
   "id": "5b956d3b",
   "metadata": {},
   "source": [
    "Most people have max heart rate from 120 to 180."
   ]
  },
  {
   "cell_type": "code",
   "execution_count": 153,
   "id": "69393663",
   "metadata": {},
   "outputs": [
    {
     "data": {
      "text/plain": [
       "<AxesSubplot:ylabel='Frequency'>"
      ]
     },
     "execution_count": 153,
     "metadata": {},
     "output_type": "execute_result"
    },
    {
     "data": {
      "image/png": "[encoded data removed]",
      "text/plain": [
       "<Figure size 432x288 with 1 Axes>"
      ]
     },
     "metadata": {
      "needs_background": "light"
     },
     "output_type": "display_data"
    }
   ],
   "source": [
    "df[\"oldpeak\"].plot.hist()"
   ]
  },
  {
   "cell_type": "markdown",
   "id": "be716eae",
   "metadata": {},
   "source": [
    "Most people have oldpeak close to 0."
   ]
  },
  {
   "cell_type": "code",
   "execution_count": null,
   "id": "05bcaf1c",
   "metadata": {},
   "outputs": [],
   "source": []
  }
 ],
 "metadata": {
  "kernelspec": {
   "display_name": "Python 3 (ipykernel)",
   "language": "python",
   "name": "python3"
  },
  "language_info": {
   "codemirror_mode": {
    "name": "ipython",
    "version": 3
   },
   "file_extension": ".py",
   "mimetype": "text/x-python",
   "name": "python",
   "nbconvert_exporter": "python",
   "pygments_lexer": "ipython3",
   "version": "3.8.5"
  }
 },
 "nbformat": 4,
 "nbformat_minor": 5
}
